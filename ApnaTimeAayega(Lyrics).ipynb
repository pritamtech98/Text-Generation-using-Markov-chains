{
 "cells": [
  {
   "cell_type": "code",
   "execution_count": 1,
   "metadata": {},
   "outputs": [],
   "source": [
    "import numpy as np"
   ]
  },
  {
   "cell_type": "code",
   "execution_count": 3,
   "metadata": {},
   "outputs": [],
   "source": [
    "## Making the model\n",
    "\n",
    "def make_model(text, ngrams=4):\n",
    "    \n",
    "    T = {}\n",
    "    \n",
    "    for i in range(len(text) - ngrams):\n",
    "        X = text[i:i+ngrams]\n",
    "        Y = text[i+ngrams]\n",
    "        \n",
    "        if X not in T.keys():\n",
    "            T[X] = {}\n",
    "            T[X][Y] = 1\n",
    "        else:\n",
    "            if Y not in T[X].keys():\n",
    "                T[X][Y] = 1\n",
    "            else:\n",
    "                T[X][Y] += 1\n",
    "                \n",
    "    for X in T.keys():\n",
    "        s = float(sum(T[X].values()))\n",
    "        for Y in T[X].keys():\n",
    "            T[X][Y] /= s\n",
    "            \n",
    "    return T\n",
    "        "
   ]
  },
  {
   "cell_type": "code",
   "execution_count": 5,
   "metadata": {},
   "outputs": [
    {
     "name": "stdout",
     "output_type": "stream",
     "text": [
      "{'hel': {'l': 1.0}, 'ell': {'o': 0.6666666666666666, 'i': 0.3333333333333333}, 'llo': {' ': 1.0}, 'lo ': {'h': 1.0}, 'o h': {'e': 1.0}, ' he': {'l': 1.0}, 'lli': {' ': 1.0}, 'li ': {'h': 1.0}, 'i h': {'e': 1.0}}\n"
     ]
    }
   ],
   "source": [
    "    model = make_model(\"hello helli hello\", 3)\n",
    "    print(model)"
   ]
  },
  {
   "cell_type": "code",
   "execution_count": 6,
   "metadata": {},
   "outputs": [],
   "source": [
    "## Text gathering\n",
    "\n",
    "def generate_text(filepath):\n",
    "    with open(filepath) as f:\n",
    "        text = f.read().lower()\n",
    "    return text"
   ]
  },
  {
   "cell_type": "code",
   "execution_count": 7,
   "metadata": {},
   "outputs": [
    {
     "name": "stdout",
     "output_type": "stream",
     "text": [
      "apna time aayega\n",
      "uth ja apni raakh se\n",
      "tu udd ja ab talaash mein\n",
      "parwaaz dekh parwane ki\n",
      "aasman bhi sar uthayega\n",
      "aayega apna time aayega\n",
      "mere jaisa shaana lala\n",
      "tujhe na mil payega\n",
      " \n",
      "yeh shabdon ka jwala\n",
      "meri bediyan pighlayega\n",
      "jitna toone boya hai tu\n",
      "utna hi to khaayega\n",
      "aisa mera khwaab hai\n",
      "jo darr ko bhi satayega\n",
      "zinda mera khwaab\n",
      "ab kaise tu dafnayega\n",
      " \n",
      "ab hausle se jeene de\n",
      "ab khauf nahi hai seene mein\n",
      "har raaste ko cheerenge\n",
      "hum kaamyabi chheenenge\n",
      "sab kuchh mila paseene se\n",
      "matlab bana ab jeene mein\n",
      " \n",
      "kyon\n",
      "kyon ki apna time aayega\n",
      " \n",
      "tu nanga hi to aaya hai\n",
      "kya ghanta lekar jaayega\n",
      "apna time aayega\n",
      "apna time aayega\n",
      "apna time aayega x (2)\n",
      " \n",
      "tu nanga hi to aaya hai\n",
      "kya ghanta lekar..\n",
      " \n",
      "kissi ka hath nahi tha sar par\n",
      "yahaan par aaya khud ki mehnat se main\n",
      "jitni taakat kismat mein nahi\n",
      "utni rehmat mein hai\n",
      "phir bhi ladka sehmat nahin hai\n",
      "kyon ki hairat nahi hai\n",
      "zaroorat yahaan marzi ki\n",
      "aur jurrat ki hai\n",
      " \n",
      "taakat ki hai, aafat ki\n",
      "himaakat ki, ibaadat ki\n",
      "adalat yeh hai chahat ki\n",
      "mohobbat ki, amaanat ki\n",
      "jeetne ki ab aadat ki hai\n",
      "shohrat ki ab laalach nai hai\n",
      "tere bhai jaisa koyi hardâ€™ch nai hai\n",
      " \n",
      "iss harkat ne hi barkat di hai\n",
      "kyon?\n",
      " \n",
      "tu nanga hi to aaya hai\n",
      "kya ghanta lekar jaayega\n",
      "apna time aayega\n",
      "apna time aayega\n",
      "apna time aayega\n",
      " \n",
      "tu nanga hi to aaya hai\n",
      "kya ghanta lekar jaayega\n",
      "kya tu ghanta lekar jaayega\n",
      "apna time aayega\n",
      "apna time aayega\n"
     ]
    }
   ],
   "source": [
    "original_lyrics = generate_text('Apna Time Aayega.txt')\n",
    "print(original_lyrics)"
   ]
  },
  {
   "cell_type": "code",
   "execution_count": 64,
   "metadata": {},
   "outputs": [],
   "source": [
    "np.random.seed(11)\n",
    "def next_char(word, model, k=4):\n",
    "    t = word[-k:]\n",
    "    if t not in model.keys():\n",
    "        return \" \"\n",
    "    else:\n",
    "        possible_chars = list(model[t].keys())\n",
    "        possible_prob = list(model[t].values())\n",
    "        return np.random.choice(possible_chars, p=possible_prob)"
   ]
  },
  {
   "cell_type": "code",
   "execution_count": 65,
   "metadata": {},
   "outputs": [],
   "source": [
    "our_model = make_model(original_lyrics)"
   ]
  },
  {
   "cell_type": "code",
   "execution_count": 66,
   "metadata": {},
   "outputs": [],
   "source": [
    "def generate_lyrics(sent, model, maxlength, k=4):\n",
    "    output_text = sent\n",
    "    t = output_text[-k:]\n",
    "    \n",
    "    for _ in range(maxlength):\n",
    "        c = next_char(t, model, k)\n",
    "        output_text += c\n",
    "        t = output_text[-k:]\n",
    "    return output_text"
   ]
  },
  {
   "cell_type": "code",
   "execution_count": 67,
   "metadata": {},
   "outputs": [],
   "source": [
    "## Our generated lyrics\n",
    "\n",
    "lyrics = generate_lyrics('apna', our_model, 2000)"
   ]
  },
  {
   "cell_type": "code",
   "execution_count": 68,
   "metadata": {},
   "outputs": [
    {
     "name": "stdout",
     "output_type": "stream",
     "text": [
      "apna time aaya hath nahi\n",
      "utna hi to aaya hai seene se\n",
      "matlab bana lala\n",
      "mere bhai tu\n",
      "utna time aaya hai\n",
      "phir bhi satayega\n",
      "zinda mera khud ki hai, amaana lala\n",
      "tujhe na mila paseene se jeenenge\n",
      "sab kuchh mil payega\n",
      "jitni rehmat mein\n",
      "har raakh se\n",
      "tu nanga hi to khauf nahin hai jaisa koyi hai seene mein nahi hai\n",
      "kyon ki ab laalach nai hai\n",
      "kya ghanta lekar jaayega\n",
      "kya tu dafnayega\n",
      "apna time aayega\n",
      "kya tu ghanta lekar..\n",
      " \n",
      "kyon\n",
      "kyon ka hai\n",
      "kya ghanta lekar jaayega\n",
      "apna time aayega\n",
      "zinda mera khwaab hai chheene mein\n",
      " \n",
      "kyon ki hai jaisa shaan pighlayega\n",
      "jitni taakat ne hi barkat ki mehnat ki, amaana ab talaash mein\n",
      "parwane ki hai\n",
      "jo darr ko bhi ladka sehmat mein nahi\n",
      "utna hi to khaayega\n",
      " \n",
      "yeh shabdon ka hai\n",
      "zaroorat ki\n",
      "himaakat di hairat ki, ibaadat ki hai\n",
      "kya ghanta lekar jaayega\n",
      "apna time aayega\n",
      " \n",
      "tu nanga hi barkat ki\n",
      "adalat yahaan par\n",
      "yahaan marzi ki\n",
      "jeetne ki\n",
      "jeetne ki mehnat se main\n",
      "jitna hi to aayega\n",
      " \n",
      "ab hai\n",
      "kya tu dafnayega\n",
      "mere jaisa mera khud ki hai\n",
      "kya ghanta lekar jaayega\n",
      "kya tu ghanta lekar..\n",
      " \n",
      "kissi ka hai\n",
      "kya ghanta lekar..\n",
      " \n",
      "kissi ka jwala\n",
      "meri bediyan parwaaz dekh par aaya hai\n",
      "kya ghanta lekar jaayega\n",
      "aayega\n",
      "apna time aayega\n",
      "aayega\n",
      "apna time aaya hath nai hai\n",
      "zaroorat ki\n",
      "mohobbat ki, aafat ki hai jaisa shaanat ki\n",
      "aur jurrat yahaan marzi ki\n",
      "adalat yeh shabdon ki ab aadat ki apna time aaya khwaab\n",
      "ab kaise tu ghanta lekar jaayega\n",
      "uth ja ab jeene mein hai\n",
      "phir bhi sar uthayega\n",
      " \n",
      "taakat ki\n",
      "himaakat ki mehnat se main\n",
      "jitna time aayega\n",
      "apna time aayega\n",
      "apna time aaya hai\n",
      " \n",
      "iss hardâ€™ch nai hai\n",
      " \n",
      "tu nanga hi to aaya hai, aafat ki\n",
      "aasman bhi ladka sehmat nahi hai seene de\n",
      "ab kaise tu ghanta lekar jaayega\n",
      " \n",
      "tu nanga hi to khauf nahi hai, aafat ki ab jeene se\n",
      "tu nanga hi to khauf nahi\n",
      "utni raaste ko bhi ladka sehmat mein\n",
      " \n",
      "kyon\n",
      "kyon ki ab laalach nai hai\n",
      "zaroorat yahaan pighlayega\n",
      " \n",
      "tu nanga hi to aayega\n",
      "meri bediyan par aayega\n",
      "apna time aaya khwaab\n",
      "ab kuchh mil payega\n",
      "apna time aaya khwaab\n",
      "ab kuchh mila paseene mein\n",
      "parwane ki\n",
      "himaakat ki ab jeene mein\n",
      " \n",
      "kissi ka hai\n",
      "ter\n"
     ]
    }
   ],
   "source": [
    "print(lyrics)"
   ]
  },
  {
   "cell_type": "code",
   "execution_count": 62,
   "metadata": {},
   "outputs": [],
   "source": [
    "def write_file(outpath, lyrics):\n",
    "    with open(outpath, 'w') as f:\n",
    "        f.write(lyrics)\n",
    "        "
   ]
  },
  {
   "cell_type": "code",
   "execution_count": 63,
   "metadata": {},
   "outputs": [],
   "source": [
    "write_file('out.txt',lyrics)"
   ]
  },
  {
   "cell_type": "code",
   "execution_count": null,
   "metadata": {},
   "outputs": [],
   "source": []
  }
 ],
 "metadata": {
  "kernelspec": {
   "display_name": "Python 3",
   "language": "python",
   "name": "python3"
  },
  "language_info": {
   "codemirror_mode": {
    "name": "ipython",
    "version": 3
   },
   "file_extension": ".py",
   "mimetype": "text/x-python",
   "name": "python",
   "nbconvert_exporter": "python",
   "pygments_lexer": "ipython3",
   "version": "3.7.3"
  }
 },
 "nbformat": 4,
 "nbformat_minor": 2
}
